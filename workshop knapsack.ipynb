{
 "cells": [
  {
   "cell_type": "markdown",
   "metadata": {},
   "source": [
    "## Knapsack Problem\n",
    "\n",
    "The *knapsack problem*:  given a set of integers $S = \\{s_1, s_2, \\ldots, s_n\\}$ and a target number $T$, find a subset (i.e., knapsack) of $S$ which adds up exactly to $T$.  \n",
    "\n",
    "For example, if $S = \\{1,2,5, 9, 10\\}$, there is a subset that adds up to $T = 22$, but not to $T = 23$.  Complete the following tasks related to this problem."
   ]
  },
  {
   "cell_type": "markdown",
   "metadata": {},
   "source": [
    "# 1. \n",
    "\n",
    "Find a subset of $S = \\{1,2,5, 9, 10\\}$ with sum $T = 22$.  Explain the process (algorithm) you used mentally to find the subset.  Then apply the same process in an attempt to find a subset with sum $T = 23$.  \n",
    "\n",
    "How do you know there is no such subset?"
   ]
  },
  {
   "cell_type": "code",
   "execution_count": 10,
   "metadata": {},
   "outputs": [
    {
     "name": "stdout",
     "output_type": "stream",
     "text": [
      "A subset for 22 is (1, 2, 9, 10)\n",
      "There are no subsets of {1, 2, 5, 9, 10} that sum to 23\n"
     ]
    },
    {
     "data": {
      "text/plain": [
       "'We know there are no subsets because we iterated over the\\npossible unique combinations of S'"
      ]
     },
     "execution_count": 10,
     "metadata": {},
     "output_type": "execute_result"
    }
   ],
   "source": [
    "from itertools import combinations\n",
    "\n",
    "# Using sets, not lists\n",
    "def find_subset(values, t, l_combs=None):\n",
    "    if l_combs is not None and l_combs <= 0: return None\n",
    "    \"\"\"\n",
    "    If t = 0, an empty subset is an answer\n",
    "    \"\"\"\n",
    "    if t == 0: return set()\n",
    "    \"\"\"\n",
    "    If t is in the set, then technicaly a set\n",
    "    with only t in it is an answer\n",
    "    \"\"\"\n",
    "    if t in values: return set(t)\n",
    "    \n",
    "    \"\"\"\n",
    "    The next logical thing to check for is if a value is \n",
    "    greater than t. If it is, logically, it cannot\n",
    "    be used in a sum to obtain t.\n",
    "    To find a max on each sub-set, would be to run O(n) either\n",
    "    way, so we could use max(set).\n",
    "    \n",
    "    \"\"\"\n",
    "    temp = values\n",
    "    maxV = max(values)\n",
    "    l_combs_actual = len(values) if l_combs is None else l_combs\n",
    "    \"\"\"\n",
    "    From here, \n",
    "     - if we knew the set was ordered, we could iterate from\n",
    "       the end of the set, checking the sum of each subset\n",
    "     - if we don't know if the set is ordered, or if we know\n",
    "       it isn't, then we'd have to build a list of each combination\n",
    "       of the set's values, and check the sums of those\n",
    "    Since we don't know, we'll use the second option\n",
    "    \"\"\"\n",
    "    if maxV > t:\n",
    "        temp.remove(maxV)\n",
    "        return find_subset(temp, t)\n",
    "    else:\n",
    "        combs = set(combinations(list(values), l_combs_actual))\n",
    "        for comb in combs:\n",
    "            if sum(comb) == t: return comb\n",
    "        \"\"\"\n",
    "        If we find no sum for combs of this length, we look\n",
    "        at the combs of length - 1\n",
    "        \"\"\"\n",
    "        return find_subset(values, t, l_combs_actual - 1)\n",
    "\n",
    "S = {1,2,5,9,10} \n",
    "T = 22\n",
    "sub = find_subset(S, T)\n",
    " \n",
    "T2 = 23\n",
    "sub2 = find_subset(S, T2)\n",
    "print(\n",
    "    'A subset for {t} is {res}'.format(t=T, res=sub) if \n",
    "    sub != None \n",
    "    else \"There are no subsets of {values} that sum to {t}\".format(t=T, values=S)\n",
    ")\n",
    "\n",
    "print(\n",
    "    'A subset for {t} is {res}'.format(t=T2, res=sub) if \n",
    "    sub2 is not None \n",
    "    else \"There are no subsets of {values} that sum to {t}\".format(t=T2, values=S)\n",
    ")\n",
    "\n",
    "\"\"\"We know there are no subsets because we iterated over the\n",
    "possible unique combinations of S\"\"\""
   ]
  },
  {
   "cell_type": "markdown",
   "metadata": {
    "collapsed": true
   },
   "source": [
    "# 2.\n",
    "\n",
    "Consider the following possible algorithm for the knapsack problem, written in psuedocode: \n",
    "```python\n",
    "knapsack(S[], T):\n",
    "    K = empty\n",
    "    for each i < size(S)\n",
    "        if sum(K) + S[i] <= T, put S[i] into K\n",
    "    if sum(K) = T, return K, else return False.\n",
    "```\n",
    "**a)** Describe what this algorithm does in English.  \n",
    "\n",
    "**b)** Implement this algorithm in Python and run it on the $S$ and $T$ above.\n",
    "\n",
    "\n",
    "**c)** Prove that this algorithm is NOT correct.  That is, find a counterexample: a set $S$ and number $T$ for which there is a solution, but not one that the algorithm finds.\n",
    "\n",
    "**d)** Verify that this particular $S$ and $T$ does not give the right output when entered to your Python program."
   ]
  },
  {
   "cell_type": "code",
   "execution_count": 11,
   "metadata": {},
   "outputs": [
    {
     "name": "stdout",
     "output_type": "stream",
     "text": [
      "False\n",
      "False\n"
     ]
    },
    {
     "data": {
      "text/plain": [
       "'\\nd: see above\\n'"
      ]
     },
     "execution_count": 11,
     "metadata": {},
     "output_type": "execute_result"
    }
   ],
   "source": [
    "\"\"\"\n",
    "a: this algorithm builds a list K of elements of S\n",
    "where elements in K are the element who when added\n",
    "to each other, never exceed the target T\n",
    "\"\"\"\n",
    "\n",
    "\"\"\"\n",
    "b:\n",
    "\"\"\"\n",
    "\n",
    "def find_sub(S, T):\n",
    "    K = []\n",
    "    for i in range(len(S)):\n",
    "        if sum(K) + S[i] <= T:\n",
    "            K.append(S[i])\n",
    "    return sum(K) == T\n",
    "\n",
    "S = [1,2,5,9,10] \n",
    "T = 22\n",
    "\n",
    "print(find_sub(S, T))\n",
    "\n",
    "\"\"\"\n",
    "c:\n",
    "This algorithm is false because it does not consider the elements \n",
    "who, when sumed to previous elements matching the description,\n",
    "exceed the target, when possible combinations when iterating \n",
    "from the end of the list, or with a middle-out iteration, could \n",
    "find possible combination.\n",
    "It also does this especially with lists in ascending order.\n",
    "Lets take an example where we inject other values in the set, \n",
    "which we know should still make the function return True given Question :\n",
    "\"\"\"\n",
    "S2 = [1,2,5,9,10,2,5,9,1] \n",
    "\n",
    "print(find_sub(S2, T))\n",
    "\n",
    "\"\"\"\n",
    "In essence, this method creates a kind of \"trigger\",\n",
    "once the sum of K reaches a value where adding any other \n",
    "element will not equal T, thus possibly ignoring potential combinations\n",
    "\"\"\"\n",
    "\n",
    "\"\"\"\n",
    "d: see above\n",
    "\"\"\""
   ]
  },
  {
   "cell_type": "markdown",
   "metadata": {},
   "source": [
    "# 3. \n",
    "\n",
    "Another try: What if you put the elements in the knapsack from largest to smallest?  Check that this too is not a correct algorithm."
   ]
  },
  {
   "cell_type": "code",
   "execution_count": 4,
   "metadata": {},
   "outputs": [
    {
     "name": "stdout",
     "output_type": "stream",
     "text": [
      "True\n",
      "\n",
      "While this finds a value, it is not a correct algorithm\n",
      "because it continues to work once it's found a combination:\n",
      "\n",
      "10\n",
      "9\n",
      "5\n",
      "2\n",
      "1\n",
      "Found\n",
      "4\n",
      "Found\n",
      "4\n",
      "Found\n",
      "7\n",
      "Found\n",
      "322\n",
      "Found\n",
      "33\n",
      "Found\n",
      "True\n"
     ]
    }
   ],
   "source": [
    "\n",
    "T = 22\n",
    "S3 = [10, 9, 5, 2, 1, 4 , 4, 7 , 322, 33] \n",
    "\n",
    "def find_sub(S, T):\n",
    "    K = []\n",
    "    for i in range(len(S)):\n",
    "        if sum(K) + S[i] <= T:\n",
    "            K.append(S[i])\n",
    "    return sum(K) == T\n",
    "\n",
    "\n",
    "print(find_sub(S3, T))\n",
    "\n",
    "print(\"\"\"\n",
    "While this finds a value, it is not a correct algorithm\n",
    "because it continues to work once it's found a combination:\n",
    "\"\"\")\n",
    "def find_sub2(S, T):\n",
    "    K = []\n",
    "    for i in range(len(S)):\n",
    "        print(S[i])\n",
    "        if sum(K) + S[i] <= T:\n",
    "            K.append(S[i])\n",
    "        if sum(K) == T:\n",
    "            print(\"Found\")\n",
    "    return sum(K) == T\n",
    "print(find_sub2(S3, T))"
   ]
  },
  {
   "cell_type": "markdown",
   "metadata": {},
   "source": [
    "# 4.\n",
    "\n",
    "Describe a correct algorithm for the knapsack problem (that we haven't seen in class), both in English and in pseudocode.  Then implement the algorithm in Python.  Explain how you know your algorithm is correct (even if it might not be efficient)."
   ]
  },
  {
   "cell_type": "code",
   "execution_count": 15,
   "metadata": {},
   "outputs": [
    {
     "name": "stdout",
     "output_type": "stream",
     "text": [
      "True\n"
     ]
    }
   ],
   "source": [
    "from itertools import combinations\n",
    "\n",
    "\"\"\"\n",
    "Since question 1 was a divide and conquer recursive, we'll do a plain for\n",
    "loop approach that indexes all combinations before checking sums\n",
    "\"\"\"\n",
    "\n",
    "\"\"\"\n",
    "def find_subs_index(S[], T):\n",
    "   combinations = []\n",
    "   for each SIZE of combinations:\n",
    "     combinations_size = [combinations of S of length SIZE]\n",
    "     combinations.join(combinations_size)\n",
    "   \n",
    "   for each combination:\n",
    "     if sum(combination) then True\n",
    "     \n",
    "   else False\n",
    "\"\"\"\n",
    "\n",
    "T = 22\n",
    "S3 = [10, 9, 5, 2, 1, 4 , 4, 7 , 322, 33]\n",
    "# , 1, 4 , 4, 7 , 322, 33\n",
    "def find_subs_index(S, T):\n",
    "    K = []\n",
    "    length = 0\n",
    "    while length < len(S):\n",
    "        K += combinations(S, length)\n",
    "        length += 1\n",
    "    for tup in K:\n",
    "        if sum(tup) == T: return True\n",
    "    return False\n",
    "\n",
    "print(find_subs_index(S3, T))"
   ]
  },
  {
   "cell_type": "markdown",
   "metadata": {
    "collapsed": true
   },
   "source": [
    "# 5. Generating correct change\n",
    "\n",
    "Now, we will be making change using the fewest coins. \n",
    "\n",
    "Suppose you are a programmer for a vending machine manufacturer. Your company wants to streamline effort by giving out the fewest possible coins in change for each transaction. Suppose a customer puts in a dollar bill and purchases an item for 37 cents. What is the smallest number of coins you can use to make change? The answer is six coins: two quarters, one dime, and three pennies. \n",
    "\n",
    "How did we arrive at the answer of six coins? We start with the largest coin in our arsenal (a quarter) and use as many of those as possible, then we go to the next lowest coin value and use as many of those as possible. This is the greedy algorithm for change-making.\n",
    "\n",
    "**Question:** Write the greedy algorithm for change making.\n",
    "\n",
    "The input is the amount of change to generate (in pennies) and a list of coin sizes (in pennies)\n",
    "\n",
    "The output is the minimum number of coins to gener\n",
    "\n",
    "```\n",
    "# buys with 1 dollar for 37 pennies\n",
    "# Second argument says we can give quarters, dimes, nickels and pennies\n",
    "make_change(100 - 37, [25, 10, 5, 1])\n",
    "\n",
    "# 2 quarters, one dime, and three pennies\n",
    "output --> 6 # Output would be equivalent to the choices [2, 1, 0, 3]\n",
    "```"
   ]
  },
  {
   "cell_type": "code",
   "execution_count": 29,
   "metadata": {},
   "outputs": [
    {
     "name": "stdout",
     "output_type": "stream",
     "text": [
      "0 0\n",
      "0 1\n",
      "1 0\n",
      "3 0\n",
      "3 1\n",
      "3 2\n",
      "[2, 1, 0, 3]\n"
     ]
    }
   ],
   "source": [
    "def make_change(change, coins):\n",
    "    returns = []\n",
    "    at = 0\n",
    "    for i in range(len(coins)):\n",
    "        value = coins[i]\n",
    "        max_sum = 0\n",
    "        n_of_i = 0\n",
    "        while ((n_of_i + 1) * value) + at <= change:\n",
    "            print(i, n_of_i)\n",
    "            max_sum += value\n",
    "            n_of_i += 1\n",
    "        returns.append(n_of_i)\n",
    "        at += max_sum\n",
    "    return returns\n",
    "        \n",
    "\n",
    "print(make_change(100 - 37, [25, 10, 5, 1]))"
   ]
  },
  {
   "cell_type": "markdown",
   "metadata": {},
   "source": [
    "# 6 Recursive change\n",
    "\n",
    "Write the greedy change making algorithm using recursion"
   ]
  },
  {
   "cell_type": "code",
   "execution_count": 37,
   "metadata": {},
   "outputs": [
    {
     "name": "stdout",
     "output_type": "stream",
     "text": [
      "[2, 1, 0, 3]\n"
     ]
    }
   ],
   "source": [
    "def make_change(change, coins, returns=[],starting_sum=0):\n",
    "    if len(returns) < len(coins):\n",
    "        \"\"\"\n",
    "        We get i, which is the length of our\n",
    "        list to return\n",
    "        \"\"\"\n",
    "        i = len(returns)\n",
    "        value = coins[i]\n",
    "        max_sum = 0\n",
    "        n_of_i = 0\n",
    "        while ((n_of_i + 1) * value) + starting_sum <= change:\n",
    "            max_sum += value\n",
    "            n_of_i += 1\n",
    "        returns.append(n_of_i)\n",
    "        \"\"\"\n",
    "        We calculate the new sum to start from\n",
    "        on the next iteration\n",
    "        \"\"\"\n",
    "        new_sum = starting_sum + (value * n_of_i)\n",
    "        return make_change(change, coins, returns, new_sum)\n",
    "    else: return returns\n",
    "\n",
    "print(make_change(100 - 37, [25, 10, 5, 1]))"
   ]
  },
  {
   "cell_type": "markdown",
   "metadata": {},
   "source": [
    "# 7 (Stretch) Dynamic Programming Change making\n",
    "\n",
    "Write a solution to the change making problem using dynamic programming.\n",
    "\n",
    "**Hint:** Start with making change for one cent and systematically work its way up to the amount of change we require. This guarantees us that at each step of the algorithm we already know the minimum number of coins needed to make change for any smaller amount. Keep a memoized table of results for each step working up to the amount of change you need to generate."
   ]
  },
  {
   "cell_type": "code",
   "execution_count": null,
   "metadata": {},
   "outputs": [],
   "source": []
  },
  {
   "cell_type": "code",
   "execution_count": null,
   "metadata": {},
   "outputs": [],
   "source": []
  }
 ],
 "metadata": {
  "kernelspec": {
   "display_name": "Python 3",
   "language": "python",
   "name": "python3"
  },
  "language_info": {
   "codemirror_mode": {
    "name": "ipython",
    "version": 3
   },
   "file_extension": ".py",
   "mimetype": "text/x-python",
   "name": "python",
   "nbconvert_exporter": "python",
   "pygments_lexer": "ipython3",
   "version": "3.7.7rc1"
  }
 },
 "nbformat": 4,
 "nbformat_minor": 1
}
